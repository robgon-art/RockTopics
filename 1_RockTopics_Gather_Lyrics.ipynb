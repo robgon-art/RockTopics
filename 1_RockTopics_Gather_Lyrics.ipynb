{
  "nbformat": 4,
  "nbformat_minor": 0,
  "metadata": {
    "colab": {
      "name": "1. RockTopics - Gather Lyrics 3",
      "provenance": [],
      "collapsed_sections": [],
      "authorship_tag": "ABX9TyOuvOaSra6C4VJAYMZ3j7+o",
      "include_colab_link": true
    },
    "kernelspec": {
      "name": "python3",
      "display_name": "Python 3"
    },
    "language_info": {
      "name": "python"
    }
  },
  "cells": [
    {
      "cell_type": "markdown",
      "metadata": {
        "id": "view-in-github",
        "colab_type": "text"
      },
      "source": [
        "<a href=\"https://colab.research.google.com/github/robgon-art/RockTopics/blob/main/1_RockTopics_Gather_Lyrics_3.ipynb\" target=\"_parent\"><img src=\"https://colab.research.google.com/assets/colab-badge.svg\" alt=\"Open In Colab\"/></a>"
      ]
    },
    {
      "cell_type": "markdown",
      "metadata": {
        "id": "hBsW6Pw0OBV-"
      },
      "source": [
        "# **RockTopics**\n",
        "## Sex and Drugs and Organic Topic Modeling - Using GPT-J to analyze the lyrics of Rock &amp; Roll songs\n",
        "\n",
        "By Robert. A Gonsalves</br>\n",
        "![topic graphs](https://raw.githubusercontent.com/robgon-art/RockTopics/main/rock_topics_cover_med.png)\n",
        "\n",
        "You can see my article here on Medium.\n",
        "\n",
        "The source code and datasets are released under the [CC BY-SA license](https://creativecommons.org/licenses/by-sa/4.0/).</br>\n",
        "![CC BY-NC-SA](https://licensebuttons.net/l/by-sa/3.0/88x31.png)"
      ]
    },
    {
      "cell_type": "code",
      "metadata": {
        "colab": {
          "base_uri": "https://localhost:8080/"
        },
        "id": "0NIjys19So_0",
        "outputId": "ab0e47c7-e9f6-4f49-c02a-cf507db59b21"
      },
      "source": [
        "!gdown --id 107TwioURZW7KkP5tLtbuOFG7K2F1EMbB # artists-data.csv\n",
        "!gdown --id 1-yU7CJ42t-8wqzspywUv5-jlBtF0wMGf # lyrics-data.csv\n",
        "!gdown --id 109nG-GwIXe40s40JILr8cs8mNAWJPwYy # Rolling_Stone_100_Greatest_Artists.txt"
      ],
      "execution_count": null,
      "outputs": [
        {
          "output_type": "stream",
          "name": "stdout",
          "text": [
            "Downloading...\n",
            "From: https://drive.google.com/uc?id=107TwioURZW7KkP5tLtbuOFG7K2F1EMbB\n",
            "To: /content/artists-data.csv\n",
            "100% 348k/348k [00:00<00:00, 2.42MB/s]\n",
            "Downloading...\n",
            "From: https://drive.google.com/uc?id=1-yU7CJ42t-8wqzspywUv5-jlBtF0wMGf\n",
            "To: /content/lyrics-data.csv\n",
            "100% 276M/276M [00:05<00:00, 48.3MB/s]\n",
            "Downloading...\n",
            "From: https://drive.google.com/uc?id=109nG-GwIXe40s40JILr8cs8mNAWJPwYy\n",
            "To: /content/Rolling_Stone_100_Greatest_Artists.txt\n",
            "100% 1.40k/1.40k [00:00<00:00, 5.90MB/s]\n"
          ]
        }
      ]
    },
    {
      "cell_type": "code",
      "metadata": {
        "colab": {
          "base_uri": "https://localhost:8080/"
        },
        "id": "LDDWP22vdtx9",
        "outputId": "bbe56375-ee72-47ff-b5a8-9a239418df48"
      },
      "source": [
        "top_100_bands = []\n",
        "with open(\"Rolling_Stone_100_Greatest_Artists.txt\", \"r\") as f:\n",
        "  for line in f:\n",
        "    top_100_bands.append(line.strip())\n",
        "\n",
        "print(top_100_bands[:6])"
      ],
      "execution_count": null,
      "outputs": [
        {
          "output_type": "stream",
          "name": "stdout",
          "text": [
            "['The Beatles', 'Bob Dylan', 'Elvis Presley', 'Rolling Stones', 'Chuck Berry', 'Jimi Hendrix']\n"
          ]
        }
      ]
    },
    {
      "cell_type": "code",
      "metadata": {
        "colab": {
          "base_uri": "https://localhost:8080/"
        },
        "id": "2odJfYUPfJwT",
        "outputId": "20b880c9-38e8-45d1-8697-4188b7c3fca6"
      },
      "source": [
        "import csv\n",
        "artists_file = open(\"artists-data.csv\")\n",
        "artists_csvreader = csv.reader(artists_file)\n",
        "artists_header = next(artists_csvreader)\n",
        "print(artists_header)\n",
        "artists_rows = []\n",
        "for row in artists_csvreader:\n",
        "  artists_rows.append(row)\n",
        "print(len(artists_rows))"
      ],
      "execution_count": null,
      "outputs": [
        {
          "output_type": "stream",
          "name": "stdout",
          "text": [
            "['Artist', 'Songs', 'Popularity', 'Link', 'Genre', 'Genres']\n",
            "3242\n"
          ]
        }
      ]
    },
    {
      "cell_type": "code",
      "metadata": {
        "colab": {
          "base_uri": "https://localhost:8080/"
        },
        "id": "OPanwPB3g6FO",
        "outputId": "12ad6237-9ffd-4667-f009-9c51f5a6aaaa"
      },
      "source": [
        "row = artists_rows[0]\n",
        "print(row[artists_header.index(\"Link\")])\n",
        "print(row[artists_header.index(\"Genre\")])"
      ],
      "execution_count": null,
      "outputs": [
        {
          "output_type": "stream",
          "name": "stdout",
          "text": [
            "/10000-maniacs/\n",
            "Rock\n"
          ]
        }
      ]
    },
    {
      "cell_type": "code",
      "metadata": {
        "colab": {
          "base_uri": "https://localhost:8080/"
        },
        "id": "dWlE_1V-ozT5",
        "outputId": "bb5ada08-2e1f-4200-d835-3d072349d337"
      },
      "source": [
        "band_name_by_artist = {}\n",
        "\n",
        "for row in artists_rows:\n",
        "  artist = row[artists_header.index(\"Link\")]\n",
        "  band_name = row[artists_header.index(\"Artist\")]\n",
        "\n",
        "  if (artist not in band_name_by_artist):\n",
        "    band_name_by_artist[artist] = band_name\n",
        "    if artist == \"/10000-maniacs/\":\n",
        "      print(artist, row)"
      ],
      "execution_count": null,
      "outputs": [
        {
          "output_type": "stream",
          "name": "stdout",
          "text": [
            "/10000-maniacs/ ['10000 Maniacs', '110', '0.3', '/10000-maniacs/', 'Rock', 'Rock; Pop; Electronica; Dance; J-Pop/J-Rock; Gospel/Religioso; Infantil; Emocore']\n"
          ]
        }
      ]
    },
    {
      "cell_type": "code",
      "metadata": {
        "colab": {
          "base_uri": "https://localhost:8080/"
        },
        "id": "u1U_TPKRqhe6",
        "outputId": "fc02961a-9e94-4472-dff3-0fb27e9ad293"
      },
      "source": [
        "print(band_name_by_artist[\"/10000-maniacs/\"])"
      ],
      "execution_count": null,
      "outputs": [
        {
          "output_type": "stream",
          "name": "stdout",
          "text": [
            "10000 Maniacs\n"
          ]
        }
      ]
    },
    {
      "cell_type": "code",
      "metadata": {
        "colab": {
          "base_uri": "https://localhost:8080/"
        },
        "id": "GHHx36m9oIkZ",
        "outputId": "d26e2e13-faa7-4454-da4b-dd564ba46cb9"
      },
      "source": [
        "lyrics_file = open(\"lyrics-data.csv\")\n",
        "lyrics_csvreader = csv.reader(lyrics_file)\n",
        "lyrics_header = next(lyrics_csvreader)\n",
        "print(lyrics_header)\n",
        "lyrics_rows = []\n",
        "for row in lyrics_csvreader:\n",
        "  lyrics_rows.append(row)\n",
        "print(len(lyrics_rows))"
      ],
      "execution_count": null,
      "outputs": [
        {
          "output_type": "stream",
          "name": "stdout",
          "text": [
            "['ALink', 'SName', 'SLink', 'Lyric', 'Idiom']\n",
            "209522\n"
          ]
        }
      ]
    },
    {
      "cell_type": "code",
      "metadata": {
        "colab": {
          "base_uri": "https://localhost:8080/"
        },
        "id": "6UONWbNsiHUa",
        "outputId": "2997588f-7379-4bb0-f59d-2ed37d2e23fd"
      },
      "source": [
        "all_bands = []\n",
        "for row in lyrics_rows:\n",
        "  artist = row[lyrics_header.index(\"ALink\")]\n",
        "  if artist in band_name_by_artist:\n",
        "    band_name = band_name_by_artist[artist]\n",
        "    if band_name not in all_bands:\n",
        "      all_bands.append(band_name)\n",
        "\n",
        "print(\"num bands\", len(all_bands))"
      ],
      "execution_count": null,
      "outputs": [
        {
          "output_type": "stream",
          "name": "stdout",
          "text": [
            "num bands 2892\n"
          ]
        }
      ]
    },
    {
      "cell_type": "code",
      "metadata": {
        "colab": {
          "base_uri": "https://localhost:8080/"
        },
        "id": "l4_k3D3EvSAN",
        "outputId": "9eb90a09-060f-4f59-df1b-c6ab60717fea"
      },
      "source": [
        "rock_lyrics_data = []\n",
        "rock_bands = []\n",
        "band_songs = []\n",
        "num_bands = 0\n",
        "\n",
        "for row in lyrics_rows:\n",
        "  artist = row[lyrics_header.index(\"ALink\")]\n",
        "  if artist in band_name_by_artist:\n",
        "    band_name = band_name_by_artist[artist]\n",
        "    if band_name in top_100_bands:\n",
        "      if band_name not in rock_bands:\n",
        "        rock_bands.append(band_name)\n",
        "      song = row[lyrics_header.index(\"SName\")]\n",
        "      band_song = band_name + \" - \" + song\n",
        "      if band_song not in band_songs:\n",
        "        lyrics = row[lyrics_header.index(\"Lyric\")]\n",
        "        if \"\\n\" not in lyrics and len(lyrics) > 100:\n",
        "          rock_lyrics_data.append([band_name, song, lyrics])\n",
        "          band_songs.append(band_song)\n",
        "\n",
        "print(\"num rock bands\", len(rock_bands))\n",
        "print(\"num rock songs\", len(rock_lyrics_data))"
      ],
      "execution_count": null,
      "outputs": [
        {
          "output_type": "stream",
          "name": "stdout",
          "text": [
            "num rock bands 50\n",
            "num rock songs 11959\n"
          ]
        }
      ]
    },
    {
      "cell_type": "code",
      "metadata": {
        "colab": {
          "base_uri": "https://localhost:8080/"
        },
        "id": "Sn0Wvi8u_FsW",
        "outputId": "55576533-b402-4a0f-daab-305928affcaf"
      },
      "source": [
        "for i in range(len(rock_bands)):\n",
        "  print(rock_bands[i])"
      ],
      "execution_count": null,
      "outputs": [
        {
          "output_type": "stream",
          "name": "stdout",
          "text": [
            "AC/DC\n",
            "Aerosmith\n",
            "Beastie Boys\n",
            "Black Sabbath\n",
            "Bob Dylan\n",
            "Bruce Springsteen\n",
            "Buddy Holly\n",
            "Chuck Berry\n",
            "Cream\n",
            "Creedence Clearwater Revival\n",
            "David Bowie\n",
            "Elvis Costello\n",
            "Elvis Presley\n",
            "Eric Clapton\n",
            "Gram Parsons\n",
            "Guns N' Roses\n",
            "Janis Joplin\n",
            "Jerry Lee Lewis\n",
            "Jimi Hendrix\n",
            "John Lennon\n",
            "Led Zeppelin\n",
            "Little Richard\n",
            "Lynyrd Skynyrd\n",
            "Metallica\n",
            "Neil Young\n",
            "Nirvana\n",
            "Patti Smith\n",
            "Pink Floyd\n",
            "Queen\n",
            "R.E.M.\n",
            "Radiohead\n",
            "Rolling Stones\n",
            "The Band\n",
            "The Beach Boys\n",
            "The Beatles\n",
            "The Byrds\n",
            "The Doors\n",
            "The Police\n",
            "The Who\n",
            "Tom Petty\n",
            "U2\n",
            "Van Morrison\n",
            "Velvet Underground\n",
            "Eminem\n",
            "Jay-Z\n",
            "Tupac Shakur\n",
            "Joni Mitchell\n",
            "Madonna\n",
            "Michael Jackson\n",
            "Tina Turner\n"
          ]
        }
      ]
    },
    {
      "cell_type": "code",
      "metadata": {
        "colab": {
          "base_uri": "https://localhost:8080/"
        },
        "id": "iN4qLT7Y6S7a",
        "outputId": "1f4b2bc9-6e5d-4b7b-f83e-cf87ccac0625"
      },
      "source": [
        "for i in range(len(rock_lyrics_data)-5, len(rock_lyrics_data)):\n",
        "  print(rock_lyrics_data[i])\n",
        "\n",
        "print()\n",
        "rock_lyrics_data.sort()\n",
        "\n",
        "for i in range(len(rock_lyrics_data)-5, len(rock_lyrics_data)):\n",
        "  print(rock_lyrics_data[i])"
      ],
      "execution_count": null,
      "outputs": [
        {
          "output_type": "stream",
          "name": "stdout",
          "text": [
            "['Tina Turner', 'Whole Lotta Love', \"You need coolin', baby, I'm not foolin'. I'm gonna send you back to schoolin'. Way down inside honey, you need it. I'm gonna give you my love. I'm gonna give you my love. Wanna Whole Lotta Love. Wanna Whole Lotta Love. Wanna Whole Lotta Love. Wanna Whole Lotta Love. You've been learnin', baby, I bean learnin'. All them good times, baby, baby, I've been yearnin'. Way, way down inside honey, you need it. I'm gonna give you my love... I'm gonna give you my love. Wanna Whole Lotta Love. Wanna Whole Lotta Love. Wanna Whole Lotta Love. Wanna Whole Lotta Love. You've been coolin', baby, I've been droolin'. All the good times I've been misusin'. Way, way down inside, I'm gonna give you my love. I'm gonna give you every inch of my love. Gonna give you my love. Wanna Whole Lotta Love. Wanna Whole Lotta Love. Wanna Whole Lotta Love. Wanna Whole Lotta Love. Way down inside... woman... You need... love. Shake for me, girl. I wanna be your backdoor man. Keep it coolin', baby\"]\n",
            "['Tina Turner', 'Why Must We Wait Until Tonight?', 'Tell me why? Why must we wait until tonight?. Tell me why? Why must we wait until tonight?. You wanna take a little time.. Wanna drink me like a fine wine.. Write the book of love line by line.. But I want to play with you, ooh...mmmm...right now.. Go all the way with you,baby...and show you how.. \\'Cause my body just can\\'t say no.. and fingers just won\\'t let go.. Tell me why? Baby. Why must we wait until tonight? Oh, yeah.. Tell me why? Why, when I\\'ve waited all my life?. You\\'re touching me, I\\'m touching you.... Oooh, what should I do? Now tell me why, why must we wait \\'till tonight?. You like to take it real slow.. Show me every little move you know.. Take a little love and watch it grow.. But I want to lay with you...darling.. Right now.. Make love all day with you baby.. And show you how.... Take my body, don\\'t take my time.. Take your lips and make them mine.. Aaaaw.. Tell me why? Baby. Why must we wait until tonight? Oh, yeah.. Tell me why? Why, when I\\'ve waited all my life?. You\\'re touching me, I\\'m touching you.... oooh, what should I do? Now tell me why, why must we wait \\'till tonight?. Come on.. come on.. \\'Cause my body just can\\'t say \"no\".. And my fingers just won\\'t let go. Baby!. Oh tell me why?. Why must we wait until tonight. tell me baby...yeah. tell me why, when I\\'ve waited all my life - like you know I did.. Come on, tell me why...why must we wait until tonight? Come on. Come on.. Ohh.Tell me why, why when I\\'ve waited all my life. Tell me why.']\n",
            "['Tina Turner', 'Without You', \"I'm feeling low, I tear out my hair. Walking 'round in circles like I don't care. One shoe off, the other one on. Cause I threw the damn shoe the night that you were gone. I'm in the mood, I'm in such a mess. My heart is broken and I'm in distress. Don't wanna eat, don't wanna sleep. 'Cause I'm thinking 'bout the dirty way you treated me. I'm in no mood for company. You see I just don't want your pity. 'Cause I call your name to drive me insane. And I feel the need to make my heart bleed. And baby I don't know why I'm drowning in tears. 'Cause I don't wanna die. So I find myself another way to learn to live another day. Without you yeah. Looking down at the way I get dressed. I need to know is that why you left. My face is sweet but my head is wrecked. By the things that you said on the night you left. You can keep your sympathy. Because I just don't want your pity. 'Cause I call your name to drive me insane. And I feel the need to make my heart bleed. And baby I don't know why I'm drowning in tears. 'Cause I don't wanna die. So I find myself another way to learn to live another day. Without you. Yeah yeah yeah yeah. I can live without you, I'm telling you girl now. I can live without you, can you hear me. You know you can keep your sympathy. Because I just don't want your pity. 'Cause I call your name to drive me insane. And I feel the need to make my heart bleed. And baby I don't know why I'm drowning in tears. 'Cause I don't wanna die. So I find myself another way to learn to live another day. Without you baby. I call your name (I call your name)\"]\n",
            "['Tina Turner', \"You Can't Stop Me Loving You\", \"You can run and you can hide. You can tell me you're untrue. You can play around with my feelings. Say you found somebody new. But there's one thing you can't do. You can't stop me loving you. You know I love you baby. Why do you treat me this way. I don't deserve this kind of treatment. And I'd have been so good like a lover should. And I'd have loved you anyway. You can run and you can hide. You can tell me you're untrue. You can play around with my feelings. Say you found somebody new. But there's one thing you can't do. You can't stop me loving you. You're gonna drive me crazy honey. Why are you so blind. Cool, aw you think you're so cool now, baby. But you just can't see all the love in me. When I give you all the time. I know I'm gonna be fine. You ain't gonna pull my chain. I ain't gonna change my mind. How do you feel baby. I bet you feel real tall. Why did you leave your manhunt, honey. When I give you love and it's not enough. And you try to make me look small\"]\n",
            "['Tina Turner', 'You Know Who (is doing you know what)', \"I heard some news this morning. And it almost devastated me. It hit my heart without a warning. The story is on the street. I overheard a conversation it was all about you. I can't believe what they're saying baby, it better not be true. They say you know who is doing you know what. How am I supposed to feel. You know who is doing you know what. I thought our love was real. They say you can't believe everything you hear. But you've got me feeling insecure. I thought you and I had a good thing going. Now baby I'm not so sure. I'm gonna have mixed emotions when I see you tonight. Im afraid I see the true story when I look in your eyes. They say you know who is doing you know what. Baby I've got to know. You know who is doing you know what. I don't wanna let you go. I don't wanna be jumping to conclusions. I would rather keep my trust in you. Is your love for me just an illusion. Baby tell me is it true. You know who is doing you know what. I've got to keep my courage up. You know who is doing you know what. Are you gonna turn your back on love\"]\n",
            "\n",
            "['Velvet Underground', \"We're Gonna Have A Real Good Time Together\", \"(Reed). We're gonna have a real good time together. We're gonna have a real good time together. We're gonna have a real good time together. We're gonna laugh and dance and shout together. Na Nanana Nananana Hey Hey Hey. Early in the morning. Hey baby. Na Nanana Nananana.\"]\n",
            "['Velvet Underground', 'What Goes On', \"(Reed). What goes on in your mind?. I think that I am falling down.. What goes on in your mind?. I think that I am upside down.. Lady, be good, and do what you should,. you know it'll work allright.. Lady, be good, do what you should,. you know it'll be allright.. I'm goin' up, and I'm goin' down.. I'm gonna fly from side to side.. See the bells, up in the sky,. Somebody's cut the string in two.. Lady, be good, and do what you should,. you know it'll work alright.. Lady, be good, do what you should,. you know it'll be alright.. One minute one, one minute two.. One minute up and one minute down.. What goes on here in your mind?. I think that I am falling down.. Lady, be good, and do what you should,. you know it'll work alright.. Lady, be good, do what you should,. you know it'll be alright..\"]\n",
            "['Velvet Underground', 'White Light/White Heat', \"White light, go on messing up my mind. Don't you know it's gonna make me go blind?. White heat, it tickles me down to my toes. Have mercy, white light, have it, goodness knows. White light, go on messing up my brain. White light, it's gonna drive me insane. White heat, it tickles me down to my toes. White light I said now, goodness knows, do it. I surely do love to watch that stuff shooting itself in. Watch that side, watch that side, don't you know, gonna be dead and bright. Yeah, foxy mama, watch her walking down the street. Come upside, your head's gonna make a dead end on your street. White light, move in me and drain my brain. White light gonna make you go insane. White heat, it tickles me down to my toes. White light, I said now, goodness knows. White light is lighting up my eyes. Don't you know it fills me up with surprise?. White heat, tickle me down to my toes. White light, I tell you now, goodness knows. Oh, she surely do move, speed. Watch that speed freak, watch that speed freak,. everybody gonna make it every week. Sputter mutter, everbody's gonna kill their mother. Here she comes, here she comes, everybody get it, gonna make me run, do it. Higher.\"]\n",
            "['Velvet Underground', 'Who Loves The Sun', '(Reed). Who loves the sun. Who cares that it makes plants grow. Who cares what it does. Since you broke my heart. Who loves the wind. Who cares that it makes breezes. Who cares what it does. Since you broke my heart. Pa Pa Pa Pa. Who loves the sun. Pa Pa Pa Pa. Who loves the sun. Pa Pa Pa Pa. Not everyone. Pa Pa Pa Pa. Who loves the sun. Who loves the rain. Who cares that it makes flowers. Who cares that it makes showers. Since you broke my heart. Who loves the sun. Who cares that it is shining. Who cares what it does. Since you broke my heart. Pa Pa Pa Pa. Who loves the sun. Pa Pa Pa Pa. Who loves the sun. Pa Pa Pa Pa. Not everyone. Pa Pa Pa Pa. Who loves the sun. Sun. Sun. Sun. Pa Pa Pa Pa. Who loves the sun. Pa Pa Pa Pa. Who loves the sun. Pa Pa Pa Pa. Not just anyone <<<<thats the only mistake. Pa Pa Pa Pa. Who loves the sun.']\n",
            "['Velvet Underground', 'Wrap Your Troubles In Dreams', \"Wrap your troubles in dreams. send them all away. Put them in a bottle. and across the seas they'll stay. Speak not of misfortune. speak not of your woes. Just steal yourself a Holy death. crouching by the door. Ride and sway to music's pain. searing with the sides. Caress death with a lover's touch. for it shall be your bride. Wrap your troubles in dreams. send them all away. Put them in a bottle. and across the seas they'll stay. Purple is to yellow. as sunlight is to rain. Happiness and death you'll find. loveliness in pain. Slash the golden whip it snaps. across the lover's sides. The earth trembles without tremors. preparing for to die. Wrap your troubles in dreams. send them all away. Put them in a bottle. and across the seas they'll stay. Salty ocean waves and sprays. come crashing to the shore. Bullies kick and kill young loves. down on bar-room floors. The gleaming knife cuts early. through the midnight air. Cutting entrance in its path. blood runs without care. Violence echoes through the land. in heart of every man. The knife, it stabs existent wounds. puss runs through meant to tear. Excrements filters through the brain. hatred bends the spine. Filth covers the body pores. to be cleansed by dying time. Wrap your troubles in dreams. send them all away. Put them in a bottle. and across the seas they'll stay.\"]\n"
          ]
        }
      ]
    },
    {
      "cell_type": "code",
      "metadata": {
        "id": "tb5qteRsuxQ0"
      },
      "source": [
        "rock_lyrics_filename = \"rock-lyrics.csv\"\n",
        "rock_lyrics_header = [\"Band Name\", \"Song\", \"Lyrics\"]\n",
        "\n",
        "with open(rock_lyrics_filename, 'w', newline=\"\") as file:\n",
        "  csvwriter = csv.writer(file)\n",
        "  csvwriter.writerow(rock_lyrics_header)\n",
        "  csvwriter.writerows(rock_lyrics_data)"
      ],
      "execution_count": null,
      "outputs": []
    },
    {
      "cell_type": "code",
      "metadata": {
        "colab": {
          "base_uri": "https://localhost:8080/"
        },
        "id": "5UzcpWxRzJf-",
        "outputId": "74d98900-22a7-4357-b68a-af5e02a372b5"
      },
      "source": [
        "import random\n",
        "for i in range(10):\n",
        "  index = random.randint(0, len(rock_lyrics_data))\n",
        "  print(rock_lyrics_data[index])"
      ],
      "execution_count": null,
      "outputs": [
        {
          "output_type": "stream",
          "name": "stdout",
          "text": [
            "['Tupac Shakur', 'Where do We Go From Here (Interlude)', \"Power.. pow.. power.... Guess who's back? Hahaha, here we go. It's ninety-fo', what's next?. Power.. enter my world. I guess this year gonna be a motherfucker for real niggaz. I swear these playa haters done got a taste of power. It ain't all good in the hood. Least not on my side, from where I stand. And the law? Man, fuck the law!. Niggaz must outthink, outstep, and continue to outsmart. the motherfuckin law, in every way. Key word in ninety-four is 'down low'. Gots to be struggling. I see how the rich got theirs. Nigga I'm legit, shit. Where do we go from here?. (Who's afraid, of the punk police?. To my niggaz run the streets, fuck peace) --> repeat in background. Heyyy niggaz, where your heart at?. See motherfuckers killin babies, killin mommas. Killin kids, puttin this in they motherfuckin mark. Now what type of mixed up trick would kill the future of our race. before he would he look his enemy dead in the eye, and open fire?. These crazy motherfuckers got toys with guns. Jails for guns, but still, no god damn jobs. And they wonder why we loc'n up. Where do we go from here?. Where do we go?. *singers singing variations of 'Where do we go from here'*. All you niggaz out there. The clouds shook, the world listened. We stood together in April of ninety-two. With duty, and a sense of honor. There is no limit to what WE can achieve. That's all on us... us.... Not my niggaz, not the whites, not the enemies. or none of them motherfuckers, US. What can WE do? Shit. I declare a death sentence to all child molestors. Fake-ass bitches, male and female. And all you punk-ass snitches. We can do without your asshole. Let no man break, what we set. Where do we go from here?. Rest in peace, to Cato, I miss you. All the other real G's that passed away in ninety-three. In ninety-four, and more. What do we do? For us?.\"]\n",
            "['Elvis Presley', 'Hearts of Stone', \"(words & music by Ray/Jackson). Hearts made of stone will never brake. 'Cause your love is never there, they just don't care. You can ask and plea, please, please, please work. And all your love is there to stay. These hearts of stone will cause you pain. Although you love there has stopped just the same. You can ask and plea, please, please, please work. And all your love is there to stay. But they'll say no, no, no, no, no, no, no, no, no, no, no, no, no, no. You daddy know, I thought I knew hearts made of stone. Hearts made of stone will never brake. 'Cause your love is never there, they just don't care. You can ask and plea, please, please, please work. And all your love is there to stay. Cause they'll say no, no, no, no, no, no, no, no, no, no, no, no, no, no.\"]\n",
            "['Black Sabbath', 'Dear Father', \"A childhood innocence was drowned in your tears. The demons that you fought. Are feeding your fears. The poisoned secrets of your life stand revealed. The truth destroys you which no longer conceals. Dear Father, forsaken. You knew what you were doing. In silence your violence. Has left my life in ruins, yeah!. In ruins, yeah!. You preyed upon my flesh. Then prayed for my soul. Belief betrayed by lust of faith that you stole. Indoctrination by a twisted desire. The catechism of an evil Messiah. Dear Father, forgive me. I know just what I'm doing. In silence, this violence. Will leave your life in ruins, yeah!. In ruins, yeah!. Preacher of theocracy. Hiding your hypocrisy. Under a false sanctity. Holy phony empathy. You have taken my life. Now it's your turn to die!. Can you sleep at night?. When you close your eyes. Do you think of all the pain from your lies?. Or do you deny. you're responsible for the victims. Of the sins you devised?. What you gonna tell them. When they ask you well then?. Is your conscience brewed in your heart?. There is no exception, when you seek redemption. For all the lives that you've torn apart!. Your molestations of the cross you defiled. A man once holy, now he spies and reviles. You took possession when confessing my sins. And now you have to face whatever death brings, yeah!. Dear Father, forsaken. You knew what you were doing. In silence, your violence. Has left my life in ruins, yeah!. In ruins, yeah, yeah, yeah!. In ruins, yeah!\"]\n",
            "['Eric Clapton', 'Help Me Up', \"Are you going to help me or will you let me down?. I'm looking for a true love but am I lost or found?. And will we cry in passion or will we cry in pain?. And will our lonely teardrops fill the world with rain?. Help me up, don't you let me down. I'm gonna wake up in heaven, not the cold, cold ground. Can't you hear the lovers crying in the night?. They spend their whole lives trying; still can't get it right. I don't know where we're going but I guess we'll start. And just to show that I mean it, baby here's my heart. Help me up, don't you let me down. I'm gonna wake up in heaven, not the cold, cold ground. Living on my feelings, feelings all I know. Baby once we touch it, we'll never let it go. Are you going to help me or will you let me down?. I'm looking for a true love but am I lost or found?. And will we cry in passion or will we cry in pain?. And will our lonely teardrops fill the world with rain?. Help me up, don't you let me down. I'm gonna wake up in heaven, not the cold, cold ground. Help me up, don't you let me down. I'm gonna wake up in heaven, not the cold, cold ground\"]\n",
            "['Creedence Clearwater Revival', 'Pagan Baby', \"Pagan baby, won't you walk with me?. Pagan baby, come on home with me.. Pagan baby, take me for a ride.. Roll me, baby, roll your big, brown eyes.. Yeah! ooh! ooh!. Pagan baby, let me make your name.. Drive it, baby, drive your big love game.. Pagan baby, what you got, i need.. Don't be savin', spread your love on me.. Aah! mm-mm-mm!. Pagan baby, now won't you rock with me?. Pagan baby, lay your love on me.. Yeah, yeah!. Aah! hey, hey!. Aah! hey! yeah!. Hey! hey! haaaaaaay!.\"]\n",
            "['Elvis Presley', \"He'll Have to Go\", \"(Words & music by J. Allison - A. Allison). Put your sweet lips a little closer to the phone. Just pretend that we're together all alone. Tell the man to turn the juke box way down low. You can tell your friend there with you, he'll have to go. You can't say the words I want to hear. When your with another man. If you love me, answer yes or no. Darling I will understand. Put your sweet lips a little closer to the phone. Just pretend that we're together all alone. Tell the man to turn the juke box way down low. You can tell your friend there with you, he'll have to go. You can't say the words I want to hear. When your with another man. If you love me, answer yes or no. Darling I will understand. Just put your sweet lips a little closer to the phone. Just pretend that we're together all alone. Tell the man to turn the juke box way down low. And you can tell your friend there with you, he'll have to go.\"]\n",
            "['Cream', 'Weird Of Hermiston', \"I'm goin' to a wedding. I'm going to a wedding dressed in black. I'm going to a party. Going to party, won't be back. Cause I'm not going with you. No. Trees are no longer a comfort. Messages sad in the wires. My hair is hung down. With the blackest of rain that I'm feeling. I'm going to the river. I'm going to the river wash my tears. I'm going to the mountains. Going to the mountains cool myfears. That I'm not going with you. No. Skies are no longer a comfort. Leaves turning black in the autumn. The corn is hung down. With the heaviest rain I am feeling. I'm going to a fun'ral. I'm going to a fun'ral dressed in white. I'm going to a nightclub. I'm going to a nightclub sleep with night. And I'm not going with you. No. Love is no longer a comfort. Fantastic times are forgotten. My heart is hung down. With the sadest of rain that I'm feeling\"]\n",
            "['Madonna', 'Survival', \"I'll never be an angel. I'll never be a saint it's true. I'm too busy in surviving. Whether it's heaven or hell. I'm gonna be living to tell. So here's my history. No risk, no glory. CHORUS:. A little up and down and. All around, it's all about survival. I'll never be an angel. I'll never be a saint it's true. I'm too busy surviving. Whether it's heaven or hell. I'm gonna be living to tell. So here's my question. Does your criticism have you caught up. In what you cannot see. Well if you give me respect. Then you'll know what to expect. CHORUS (repeat). I'll never be an angel. I'll never be a saint it's true. I'm too busy surviving. Whether it's heaven or hell. I'm gonna be living to tell. So here's my history. No risk no glory. CHORUS (3x). I'll never be an angel, survival. I'll never be a saint it's true. Survival\"]\n",
            "['Jay-Z', 'The Renegades', \"Renegade. [Jay-Z]. Motherf***ers -. say that I'm foolish I only talk about jewels. Do you fools listen to music or do you just skim through it?. See I'm influenced by the ghetto you ruined. That same dude you gave nothin, I made somethin doin. what I do through and through and. I give you the news - with a twist it's just his ghetto point-of-view. The renegade; you been afraid. I penetrate pop culture, bring 'em a lot closer to the block where they. pop toasters, and they live with they moms. Got dropped roasters, from botched robberies niggaz crotched over. Mommy's knocked up cause she wasn't watched over. Knocked down by some clown when child support knocked. No he's not around - now how that sound to ya, jot it down. I bring it through the ghetto without ridin 'round. hidin down duckin strays from frustrated youths stuck in they ways. Just read a magazine that f***ed up my day. How you rate music that thugs with nothin relate to it?. I help them see they way through it - not you. Can't step in my pants, can't walk in my shoes. Bet everything you worth; you lose your tie and your shirt. [Eminem]. Since I'm in a position to talk to these kids and they listen. I ain't no politician but I'll kick it with 'em a minute. Cause see they call me a menace; and if the shoe fits I'll wear it. But if it don't, then y'all'll swallow the truth grin and bear it. Now who's the king of these rude ludicrous lucrative lyrics. Who could inherit the title, put the youth in hysterics. Usin his music to steer it, sharin his views and his merits. But there's a huge interference - they're sayin you shouldn't hear it. Maybe it's hatred I spew, maybe it's food for the spirit. Maybe it's beautiful music I made for you to just cherish. But I'm debated disputed hated and viewed in America. as a motherf***in drug addict - like you didn't experiment?. Now now, that's when you start to stare at who's in the mirror. and see yourself as a kid again, and you get embarrased. And I got nothin to do but make you look stupid as parents. You f***in do-good-less - too bad you couldn't do good at marriage!. (Ha ha!) And do you have any clue what I had to do to get here I don't. think you do so stay tuned and keep your ears glued to the stereo. Cause here we go - he's {*Jigga joint Jigga-chk-Jigga*}. And I'm the sinister, Mr. Kiss-My-Ass it's just the. [Chorus: Eminem + Jay-Z]. [Em] RENEGADE! Never been afraid to say. what's on my mind at, any given time of day. Cause I'm a RENEGADE! Never been afraid to talk. about anything (ANYTHING) anything (ANYTHING), RENEGADE!. [Jay] Never been afraid to say. what's on my mind at, any given time of day. Cause I'm a {RENEGADE} Never been afraid to holler. about anything (anything) Anything (ANYTHING!). [Jay-Z]. I had to hustle, my back to the wall, ashy knuckles. Pockets filled with a lot of lint, not a cent. Gotta vent, lot of innocent of lives lost on the project bench. Whatchu hollerin? Gotta pay rent, bring dollars in. By the bodega, iron under my coat, feelin braver. Doo-rag wrappin my waves up, pockets full of hope. Do not step to me - I'm awkward, I box leftier often. My pops left me an orphan, my momma wasn't home. Could not stress to me I wasn't grown; 'specially on nights. I brought somethin home to quiet the stomach rumblings. My demeanor - thirty years my senior. My childhood didn't mean much, only raisin green up. Raisin my fingers to critics; raisin my head to the sky. BIG I did it - multi before I die (nigga). No lie, just know I chose my own fate. I drove by the fork in the road and went straight. [Eminem]. See I'm a poet to some, a regular modern day Shakespeare. Jesus Christ the King of these Latter Day Saints here. To shatter the picture in which of that as they paint me. as a monger of hate and Satan a scatter-brained atheist. But that ain't the case, see it's a matter of taste. We as a people decide if Shady's as bad as they say he is. Or is he the latter - a gateway to escape?. Media scapegoat, who they can be mad at today. See it's easy as cake, simple as whistlin Dixie. while I'm wavin the pistol at sixty Christians against me. Go to war with the Mormons, take a bath with the Catholics. in holy water - no wonder they try to hold me under longer. I'm a motherf***in spiteful, DELIGHTFUL eyeful. The new Ice Cube - motherf***ers HATE to like you. What did I do? (huh?) I'm just a kid from the gutter. makin this butter off these bloodsuckers, cause I'm a muh'f***in. [Chorus] - repeat 2X.\"]\n",
            "['The Doors', 'The Mosquito', \"No me moleste mosquito. No me moleste mosquito. No me moleste mosquito. Why don't you go home?. No me moleste mosquito. Let me eat my burrito. No me moleste mosquito. Why don't you go home?\"]\n"
          ]
        }
      ]
    },
    {
      "cell_type": "code",
      "metadata": {
        "colab": {
          "base_uri": "https://localhost:8080/"
        },
        "id": "weNEwQLYpO4g",
        "outputId": "4b6736dd-e461-41ca-93a3-1e2d6ddc60d7"
      },
      "source": [
        "num_lines = 0\n",
        "for rld in rock_lyrics_data:\n",
        "  num_lines += rld[2].count(\". \")\n",
        "\n",
        "print(\"num lines\", num_lines)"
      ],
      "execution_count": null,
      "outputs": [
        {
          "output_type": "stream",
          "name": "stdout",
          "text": [
            "num lines 460364\n"
          ]
        }
      ]
    }
  ]
}
